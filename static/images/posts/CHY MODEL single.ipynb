{
 "cells": [
  {
   "cell_type": "code",
   "execution_count": null,
   "metadata": {},
   "outputs": [
    {
     "name": "stderr",
     "output_type": "stream",
     "text": [
      "/Users/chenhongyu/anaconda3/lib/python3.6/site-packages/matplotlib/font_manager.py:1328: UserWarning: findfont: Font family ['sans-serif'] not found. Falling back to DejaVu Sans\n",
      "  (prop.get_family(), self.defaultFamily[fontext]))\n"
     ]
    },
    {
     "data": {
      "text/plain": [
       "<Figure size 432x288 with 0 Axes>"
      ]
     },
     "metadata": {},
     "output_type": "display_data"
    },
    {
     "data": {
      "image/png": "[encoded data removed]",
      "text/plain": [
       "<Figure size 432x288 with 1 Axes>"
      ]
     },
     "metadata": {},
     "output_type": "display_data"
    }
   ],
   "source": [
    "import matplotlib.pyplot as plt\n",
    "import numpy as np\n",
    "\n",
    "#import numpy\n",
    "\n",
    "from matplotlib.dates import DateFormatter, WeekdayLocator, DayLocator, MONDAY,YEARLY\n",
    "from mpl_finance import candlestick_ohlc\n",
    "#quotes_historical_yahoo_ohlc\n",
    "#import matplotlib\n",
    "import tushare as ts\n",
    "import pandas as pd\n",
    "import matplotlib.pyplot as plt\n",
    "from matplotlib.pylab import date2num\n",
    "import datetime\n",
    "code = \"600599\"\n",
    "df=ts.get_hist_data(code,start='2018-08-30',end='2018-11-30')\n",
    "\n",
    "fig = plt.gcf()\n",
    "hist_data=df \n",
    "# 创建子图\n",
    "fig, ax = plt.subplots()\n",
    "fig.subplots_adjust(bottom=0.2)\n",
    "# 设置X轴刻度为日期时间\n",
    "ax.xaxis_date()\n",
    "plt.xticks(rotation=45)\n",
    "plt.yticks()\n",
    "plt.title(code)\n",
    "plt.xlabel(\"date\")\n",
    "plt.ylabel(\"price(yuan)\")\n",
    "#candlestick_ohlc(ax,data_list,width=1.5,colorup='r',colordown='g')\n",
    "\n",
    "plt.grid()\n",
    "\n",
    "\n",
    "hist_data=df .sort_index()\n",
    "# 对tushare获取到的数据转换成candlestick_ohlc()方法可读取的格式\n",
    "data_list = []\n",
    "for dates,row in hist_data.iterrows():\n",
    "    # 将时间转换为数字\n",
    "    date_time = datetime.datetime.strptime(dates,'%Y-%m-%d')\n",
    "    t = date2num(date_time)\n",
    "    open,high,close,low = row[:4]\n",
    "    datas = (t,open,high,low,close)\n",
    "    data_list.append(datas)\n",
    "\n",
    "\n",
    "\n",
    "mondays = WeekdayLocator(MONDAY)            # 主要刻度\n",
    "alldays = DayLocator()                      # 次要刻度\n",
    "#weekFormatter = DateFormatter('%b %d')     # 如：Jan 12\n",
    "mondayFormatter = DateFormatter('%m-%d-%Y') # 如：2-29-2015\n",
    "dayFormatter = DateFormatter('%d')          # 如：12\n",
    "plt.rcParams['font.sans-serif'] = ['SimHei']\n",
    "plt.rcParams['axes.unicode_minus'] = False\n",
    "candlestick_ohlc(ax,data_list,width=1.5,colorup='r',colordown='g')  \n",
    "\n",
    "mid=np.array(data_list)\n",
    "\n",
    "mm=np.ones((len(mid),5))\n",
    "\n",
    "mm=np.ones((len(mid),5))\n",
    "av=(mid[len(mid)-1,1]+mid[len(mid)-1,2]+mid[len(mid)-1,3]+mid[len(mid)-1,4])*0.25\n",
    "\n",
    "\n",
    "for x in range(len(mid)):\n",
    "    mm[x,0]=2*mid[len(mid)-1,0]-mid[x,0]\n",
    "    mm[x,1]=2*av-mid[x,4]\n",
    "    mm[x,2]=2*av-mid[x,3]\n",
    "    mm[x,3]=2*av-mid[x,2]\n",
    "    mm[x,4]=2*av-mid[x,1]\n",
    "\n",
    "merge=np.concatenate((mm,mid))\n",
    "\n",
    "\n",
    "if len(merge) == 0:\n",
    "    raise SystemExit\n",
    "\n",
    "fig, ax = plt.subplots()\n",
    "fig.subplots_adjust(bottom=0.2)\n",
    "\n",
    "ax.xaxis.set_major_locator(mondays)\n",
    "ax.xaxis.set_minor_locator(alldays)\n",
    "ax.xaxis.set_major_formatter(mondayFormatter)\n",
    "#ax.xaxis.set_minor_formatter(dayFormatter)\n",
    "\n",
    "#plot_day_summary(ax, quotes, ticksize=3)\n",
    "candlestick_ohlc(ax, merge, width=0.6, colorup='r', colordown='g')\n",
    "\n",
    "ax.xaxis_date()\n",
    "ax.autoscale_view()\n",
    "fig.set_size_inches(20, 10)\n",
    "plt.setp(plt.gca().get_xticklabels(), rotation=45, horizontalalignment='right')\n",
    "\n",
    "ax.grid(True)\n",
    "plt.title(code)\n",
    "\n",
    "plt.savefig(code)\n",
    "plt.show()    "
   ]
  },
  {
   "cell_type": "code",
   "execution_count": null,
   "metadata": {},
   "outputs": [],
   "source": []
  }
 ],
 "metadata": {
  "kernelspec": {
   "display_name": "Python 3",
   "language": "python",
   "name": "python3"
  },
  "language_info": {
   "codemirror_mode": {
    "name": "ipython",
    "version": 3
   },
   "file_extension": ".py",
   "mimetype": "text/x-python",
   "name": "python",
   "nbconvert_exporter": "python",
   "pygments_lexer": "ipython3",
   "version": "3.6.5"
  }
 },
 "nbformat": 4,
 "nbformat_minor": 2
}
