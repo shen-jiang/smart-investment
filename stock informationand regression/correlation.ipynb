{
 "cells": [
  {
   "cell_type": "code",
   "execution_count": 1,
   "metadata": {},
   "outputs": [
    {
     "name": "stdout",
     "output_type": "stream",
     "text": [
      "          000001    600028    601857    601939\n",
      "000001  1.000000  0.501949  0.493122  0.742774\n",
      "600028  0.501949  1.000000  0.748904  0.475902\n",
      "601857  0.493122  0.748904  1.000000  0.424813\n",
      "601939  0.742774  0.475902  0.424813  1.000000\n"
     ]
    }
   ],
   "source": [
    "import tushare as ts\n",
    "from pandas import DataFrame\n",
    "import datetime\n",
    "end = datetime.date.today()\n",
    "#开始时间结束时间，选取最近一年的数据\n",
    "start = end - datetime.timedelta(days=365)\n",
    "\n",
    "end = end.strftime('%Y-%m-%d')\n",
    "start = start.strftime('%Y-%m-%d')\n",
    "\n",
    "#先建立一个字典，用来存储股票对应的价格\n",
    "all_data = {} \n",
    "#遍历list里面的股票，可以写入多个股票\n",
    "for ticker in ['000001', '601939', '601857', '600028']:\n",
    "    #获取各股票某时段的价格\n",
    "    all_data[ticker] = ts.get_k_data(ticker, start, end)\n",
    "#用for循环遍历股票价格并转换为dataframe的形式\n",
    "price = DataFrame({tic: data['close']\n",
    "                    for tic, data in all_data.items()})\n",
    "#计算股票价格每日变化\n",
    "returns = price.pct_change()\n",
    "#计算相关性\n",
    "corr=returns.corr()\n",
    "\n",
    "print(corr)\n"
   ]
  },
  {
   "cell_type": "code",
   "execution_count": null,
   "metadata": {},
   "outputs": [],
   "source": []
  }
 ],
 "metadata": {
  "kernelspec": {
   "display_name": "Python 3",
   "language": "python",
   "name": "python3"
  },
  "language_info": {
   "codemirror_mode": {
    "name": "ipython",
    "version": 3
   },
   "file_extension": ".py",
   "mimetype": "text/x-python",
   "name": "python",
   "nbconvert_exporter": "python",
   "pygments_lexer": "ipython3",
   "version": "3.6.4"
  }
 },
 "nbformat": 4,
 "nbformat_minor": 2
}
