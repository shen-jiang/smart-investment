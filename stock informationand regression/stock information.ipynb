{
 "cells": [
  {
   "cell_type": "code",
   "execution_count": 25,
   "metadata": {},
   "outputs": [],
   "source": [
    "import pandas as pd\n",
    "import tushare as ts\n",
    "import numpy as np"
   ]
  },
  {
   "cell_type": "code",
   "execution_count": 26,
   "metadata": {},
   "outputs": [],
   "source": [
    "stock = ts.get_stock_basics()"
   ]
  },
  {
   "cell_type": "code",
   "execution_count": 120,
   "metadata": {},
   "outputs": [],
   "source": [
    "code = '600536'"
   ]
  },
  {
   "cell_type": "code",
   "execution_count": 121,
   "metadata": {},
   "outputs": [
    {
     "name": "stdout",
     "output_type": "stream",
     "text": [
      "name                    中国软件\n",
      "industry                软件服务\n",
      "area                      北京\n",
      "pe                         0\n",
      "outstanding             4.95\n",
      "totals                  4.95\n",
      "totalAssets           471269\n",
      "liquidAssets          357614\n",
      "fixedAssets          52032.5\n",
      "reserved             97567.5\n",
      "reservedPerShare        1.97\n",
      "esp                   -0.485\n",
      "bvps                    3.73\n",
      "pb                      6.56\n",
      "timeToMarket        20020517\n",
      "undp                 34805.1\n",
      "perundp                  0.7\n",
      "rev                   -14.35\n",
      "profit                -15.86\n",
      "gpr                    36.29\n",
      "npr                    -9.43\n",
      "holders                87694\n",
      "Name: 600536, dtype: object\n"
     ]
    }
   ],
   "source": [
    "print(stock.loc[code])"
   ]
  },
  {
   "cell_type": "markdown",
   "metadata": {},
   "source": [
    "    code\n",
    "    name\n",
    "    industry\n",
    "    area\n",
    "    pe: price earning ratio\n",
    "    outstanding: Flow of equity(a hundred million)\n",
    "    totals: general capital(a hundred million)\n",
    "    totalAssets: (ten thousands)\n",
    "    liquidAssets\n",
    "    fixedAssets\n",
    "    reserved\n",
    "    reservedPerShare\n",
    "    esp: earning per share\n",
    "    bvps: book value per share\n",
    "    pb: price to book value ratio\n",
    "    timeToMarket\n",
    "    undp: undistributed profit\n",
    "    perundp:undistributed profit per share\n",
    "    rev: revenue change(%)\n",
    "    profit: (%)\n",
    "    gpr: gross profit rate(%)\n",
    "    npr: net profit rate(%)\n",
    "    holders: number of stock holders"
   ]
  },
  {
   "cell_type": "code",
   "execution_count": null,
   "metadata": {},
   "outputs": [],
   "source": []
  }
 ],
 "metadata": {
  "kernelspec": {
   "display_name": "Python 3",
   "language": "python",
   "name": "python3"
  },
  "language_info": {
   "codemirror_mode": {
    "name": "ipython",
    "version": 3
   },
   "file_extension": ".py",
   "mimetype": "text/x-python",
   "name": "python",
   "nbconvert_exporter": "python",
   "pygments_lexer": "ipython3",
   "version": "3.6.4"
  }
 },
 "nbformat": 4,
 "nbformat_minor": 2
}
