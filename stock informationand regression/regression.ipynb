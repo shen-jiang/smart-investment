{
 "cells": [
  {
   "cell_type": "code",
   "execution_count": 1,
   "metadata": {},
   "outputs": [],
   "source": [
    "import pandas as pd\n",
    "import tushare as ts\n",
    "import pandas as pd\n",
    "from pandas import DataFrame\n",
    "import math\n",
    "import numpy as np\n",
    "import seaborn as sns\n",
    "import matplotlib.pyplot as plt\n",
    "import datetime"
   ]
  },
  {
   "cell_type": "code",
   "execution_count": 2,
   "metadata": {},
   "outputs": [],
   "source": [
    "code = '600678'\n",
    "df = ts.get_hist_data(code)"
   ]
  },
  {
   "cell_type": "code",
   "execution_count": 3,
   "metadata": {},
   "outputs": [],
   "source": [
    "df = df[['open',  'high',  'low',  'close', 'volume']]"
   ]
  },
  {
   "cell_type": "code",
   "execution_count": 4,
   "metadata": {},
   "outputs": [],
   "source": [
    "df['HL_PCT'] = (df['high'] - df['low']) / df['close'] * 100.0\n",
    "df['PCT_change'] = (df['close'] - df['open']) / df['open'] * 100.0\n",
    "df = df[['close', 'HL_PCT', 'PCT_change', 'volume']]"
   ]
  },
  {
   "cell_type": "code",
   "execution_count": 5,
   "metadata": {},
   "outputs": [
    {
     "name": "stdout",
     "output_type": "stream",
     "text": [
      "X_train.shape=(385, 4)\n",
      " y_train.shape =(385,)\n",
      " X_test.shape=(97, 4)\n",
      ",  y_test.shape=(97,)\n",
      "LinearRegression(copy_X=True, fit_intercept=True, n_jobs=1, normalize=False)\n",
      "-7.105427357601002e-15\n",
      "[ 1.00000000e+00 -6.71625449e-17 -5.99334779e-17 -8.14278478e-21]\n",
      "1.0\n"
     ]
    }
   ],
   "source": [
    "from sklearn.model_selection import train_test_split \n",
    "from sklearn.linear_model import LinearRegression  \n",
    "from sklearn import metrics\n",
    "import numpy as np\n",
    "import matplotlib.pyplot as plt\n",
    "X=df.loc[:,('close', 'HL_PCT', 'PCT_change', 'volume')]\n",
    "y=df.loc[:,'close']\n",
    "X_train,X_test, y_train, y_test = train_test_split(X,y,test_size = 0.2,random_state=100)\n",
    "print ('X_train.shape={}\\n y_train.shape ={}\\n X_test.shape={}\\n,  y_test.shape={}'.format(X_train.shape,y_train.shape, X_test.shape,y_test.shape))\n",
    "linreg = LinearRegression()\n",
    "model=linreg.fit(X_train, y_train)\n",
    "print (model)\n",
    "print (linreg.intercept_)\n",
    "print (linreg.coef_)\n",
    "confidence = model.score(X_test, y_test)\n",
    "print(confidence)"
   ]
  },
  {
   "cell_type": "code",
   "execution_count": 6,
   "metadata": {},
   "outputs": [
    {
     "name": "stdout",
     "output_type": "stream",
     "text": [
      "[12.19 15.49 14.78  5.93 12.19 12.14 12.29 12.57 12.64 11.21 12.43 12.17\n",
      " 12.59 11.61 15.31 12.28 12.36 10.75 15.02 18.81 12.89 12.57 11.51 11.02\n",
      " 12.11 12.05 15.46 15.19 12.21 11.81 12.88 15.55 18.13 11.75 10.27 11.05\n",
      " 12.39 16.39 12.18 15.03 14.37 13.34 14.9  13.13 13.01  5.81 17.92 11.58\n",
      " 10.37 13.91 12.49 11.59 12.55 18.39 15.49 12.14  9.22 12.47 12.08 12.05\n",
      " 12.24 14.75 12.58 15.61  5.87 15.23  5.53 12.07 13.83 15.6  15.46 10.07\n",
      "  6.6  11.32 12.01 15.76 15.32 12.62 14.1  10.15 14.18 11.11 10.36 14.56\n",
      " 12.75 17.11 10.37 11.3  12.57  6.16 12.01 12.23 14.46 17.85 12.33 12.38\n",
      " 13.14]\n"
     ]
    },
    {
     "data": {
      "text/plain": [
       "12.738144329896908"
      ]
     },
     "execution_count": 6,
     "metadata": {},
     "output_type": "execute_result"
    }
   ],
   "source": [
    "y_pred = linreg.predict(X_test)\n",
    "print (y_pred) \n",
    "y_pred.shape\n",
    "np.mean(y_pred)"
   ]
  },
  {
   "cell_type": "code",
   "execution_count": null,
   "metadata": {},
   "outputs": [],
   "source": []
  }
 ],
 "metadata": {
  "kernelspec": {
   "display_name": "Python 3",
   "language": "python",
   "name": "python3"
  },
  "language_info": {
   "codemirror_mode": {
    "name": "ipython",
    "version": 3
   },
   "file_extension": ".py",
   "mimetype": "text/x-python",
   "name": "python",
   "nbconvert_exporter": "python",
   "pygments_lexer": "ipython3",
   "version": "3.6.4"
  }
 },
 "nbformat": 4,
 "nbformat_minor": 2
}
